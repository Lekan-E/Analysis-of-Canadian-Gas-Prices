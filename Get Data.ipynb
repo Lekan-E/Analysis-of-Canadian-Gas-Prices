{
 "cells": [
  {
   "cell_type": "code",
   "execution_count": 1,
   "metadata": {},
   "outputs": [],
   "source": [
    "import pandas as pd\n",
    "from stats_can import StatsCan\n",
    "\n",
    "# Database connector \n",
    "from sqlalchemy import create_engine"
   ]
  },
  {
   "cell_type": "code",
   "execution_count": 2,
   "metadata": {},
   "outputs": [],
   "source": [
    "# MySQL connection details\n",
    "username = 'root'\n",
    "password = '**'\n",
    "host = 'localhost'\n",
    "port = '3306'  \n",
    "database = 'gasdb'\n",
    "\n",
    "# Create SQLAlchemy engine for MySQL connection\n",
    "engine = create_engine(f'mysql+mysqlconnector://{username}:{password}@{host}:{port}/{database}')"
   ]
  },
  {
   "cell_type": "code",
   "execution_count": 3,
   "metadata": {},
   "outputs": [],
   "source": [
    "# Import vector csv\n",
    "vector_df = pd.read_csv(r'./Data/Vector Data.csv')"
   ]
  },
  {
   "cell_type": "code",
   "execution_count": 4,
   "metadata": {},
   "outputs": [
    {
     "name": "stderr",
     "output_type": "stream",
     "text": [
      "c:\\Users\\Razak\\AppData\\Local\\Programs\\Python\\Python312\\Lib\\site-packages\\stats_can\\api_class.py:24: FutureWarning: This class will be deprecated in upcoming v3 release. Please see the docs for details\n",
      "  warn(\n",
      "c:\\Users\\Razak\\AppData\\Local\\Programs\\Python\\Python312\\Lib\\site-packages\\stats_can\\sc.py:685: FutureWarning: This function will be deprecated in the v3 release. Please see the docs for details.\n",
      "  warn(\n",
      "c:\\Users\\Razak\\AppData\\Local\\Programs\\Python\\Python312\\Lib\\site-packages\\stats_can\\sc.py:360: FutureWarning: This function will be deprecated in the v3 release. Please see the docs for details.\n",
      "  warn(\n",
      "c:\\Users\\Razak\\AppData\\Local\\Programs\\Python\\Python312\\Lib\\site-packages\\stats_can\\sc.py:276: FutureWarning: This function will be deprecated in the v3 release. Please see the docs for details.\n",
      "  warn(\n",
      "c:\\Users\\Razak\\AppData\\Local\\Programs\\Python\\Python312\\Lib\\site-packages\\stats_can\\sc.py:326: FutureWarning: This function will be deprecated in the v3 release. Please see the docs for details.\n",
      "  warn(\n"
     ]
    },
    {
     "data": {
      "text/html": [
       "<div>\n",
       "<style scoped>\n",
       "    .dataframe tbody tr th:only-of-type {\n",
       "        vertical-align: middle;\n",
       "    }\n",
       "\n",
       "    .dataframe tbody tr th {\n",
       "        vertical-align: top;\n",
       "    }\n",
       "\n",
       "    .dataframe thead th {\n",
       "        text-align: right;\n",
       "    }\n",
       "</style>\n",
       "<table border=\"1\" class=\"dataframe\">\n",
       "  <thead>\n",
       "    <tr style=\"text-align: right;\">\n",
       "      <th></th>\n",
       "      <th>Date</th>\n",
       "      <th>GEO</th>\n",
       "      <th>Value</th>\n",
       "      <th>Gas_Type</th>\n",
       "    </tr>\n",
       "  </thead>\n",
       "  <tbody>\n",
       "    <tr>\n",
       "      <th>11647</th>\n",
       "      <td>2024-08-01</td>\n",
       "      <td>Winnipeg, Manitoba</td>\n",
       "      <td>171.3</td>\n",
       "      <td>2</td>\n",
       "    </tr>\n",
       "    <tr>\n",
       "      <th>12063</th>\n",
       "      <td>2024-08-01</td>\n",
       "      <td>Winnipeg, Manitoba</td>\n",
       "      <td>161.1</td>\n",
       "      <td>3</td>\n",
       "    </tr>\n",
       "    <tr>\n",
       "      <th>21215</th>\n",
       "      <td>2024-08-01</td>\n",
       "      <td>Yellowknife, Northwest Territories</td>\n",
       "      <td>162.9</td>\n",
       "      <td>1</td>\n",
       "    </tr>\n",
       "    <tr>\n",
       "      <th>21631</th>\n",
       "      <td>2024-08-01</td>\n",
       "      <td>Yellowknife, Northwest Territories</td>\n",
       "      <td>184.4</td>\n",
       "      <td>2</td>\n",
       "    </tr>\n",
       "    <tr>\n",
       "      <th>22047</th>\n",
       "      <td>2024-08-01</td>\n",
       "      <td>Yellowknife, Northwest Territories</td>\n",
       "      <td>180.5</td>\n",
       "      <td>3</td>\n",
       "    </tr>\n",
       "  </tbody>\n",
       "</table>\n",
       "</div>"
      ],
      "text/plain": [
       "            Date                                 GEO  Value  Gas_Type\n",
       "11647 2024-08-01                  Winnipeg, Manitoba  171.3         2\n",
       "12063 2024-08-01                  Winnipeg, Manitoba  161.1         3\n",
       "21215 2024-08-01  Yellowknife, Northwest Territories  162.9         1\n",
       "21631 2024-08-01  Yellowknife, Northwest Territories  184.4         2\n",
       "22047 2024-08-01  Yellowknife, Northwest Territories  180.5         3"
      ]
     },
     "execution_count": 4,
     "metadata": {},
     "output_type": "execute_result"
    }
   ],
   "source": [
    "df = vector_df\n",
    "df['geo_vector'] = df['Geography'] + '_' + df['GasTypeID'].astype(str)\n",
    "\n",
    "# store in a dictionary \n",
    "dict_map = dict(zip(df['geo_vector'], df['VectorCode']))\n",
    "v_list = list(dict_map.values())\n",
    "\n",
    "# get the data from statistics canada\n",
    "sc = StatsCan()\n",
    "v_df = sc.vectors_to_df(v_list)\n",
    "\n",
    "inv_map = {v: k for k, v in dict_map.items()}\n",
    "v_df.columns = v_df.columns.to_series().map(inv_map)\n",
    "v_df.index.names = ['Date']\n",
    "final_df = v_df.reset_index()\n",
    "\n",
    "# unpivot the dataframe\n",
    "a_melted = pd.melt(final_df, id_vars=['Date'], var_name='GEO', value_name='Value')\n",
    "\n",
    "# Rearrange columns for the desired output\n",
    "df_final = a_melted[['Date', 'GEO', 'Value']]\n",
    "\n",
    "# Display the result\n",
    "new_df = df_final.sort_values(by=['Date','GEO'])\n",
    "\n",
    "# Split the GEO columns\n",
    "new_df['Gas_Type'] = new_df['GEO'].str.split('_').str[-1]\n",
    "# convert 'gas_type' to integer\n",
    "new_df['Gas_Type'] = new_df['Gas_Type'].astype(int)\n",
    "new_df['GEO'] = new_df['GEO'].str.split('_').str[0]\n",
    "new_df.tail()\n"
   ]
  },
  {
   "cell_type": "code",
   "execution_count": 13,
   "metadata": {},
   "outputs": [
    {
     "name": "stdout",
     "output_type": "stream",
     "text": [
      "Data inserted successfully!\n"
     ]
    }
   ],
   "source": [
    "# Export to database\n",
    "# Insert DataFrame into MySQL table\n",
    "table_name = 'prices'\n",
    "\n",
    "# Insert data into the table, if the table already exists, replace the data\n",
    "new_df.to_sql(name=table_name, con=engine, if_exists='append', index=False)\n",
    "\n",
    "print(\"Data inserted successfully!\")"
   ]
  }
 ],
 "metadata": {
  "kernelspec": {
   "display_name": "Python 3",
   "language": "python",
   "name": "python3"
  },
  "language_info": {
   "codemirror_mode": {
    "name": "ipython",
    "version": 3
   },
   "file_extension": ".py",
   "mimetype": "text/x-python",
   "name": "python",
   "nbconvert_exporter": "python",
   "pygments_lexer": "ipython3",
   "version": "3.12.4"
  }
 },
 "nbformat": 4,
 "nbformat_minor": 2
}
