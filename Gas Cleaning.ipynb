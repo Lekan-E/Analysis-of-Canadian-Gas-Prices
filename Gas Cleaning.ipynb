{
 "cells": [
  {
   "cell_type": "code",
   "execution_count": 11,
   "metadata": {},
   "outputs": [],
   "source": [
    "# Import libraries\n",
    "import pandas as pd\n",
    "\n",
    "# Database connector \n",
    "from sqlalchemy import create_engine"
   ]
  },
  {
   "cell_type": "code",
   "execution_count": 26,
   "metadata": {},
   "outputs": [],
   "source": [
    "# MySQL connection details\n",
    "username = 'root'\n",
    "password = '**'\n",
    "host = 'localhost'\n",
    "port = '3306'  # default MySQL port\n",
    "database = 'gasdb'\n",
    "\n",
    "# Create SQLAlchemy engine for MySQL connection\n",
    "engine = create_engine(f'mysql+mysqlconnector://{username}:{password}@{host}:{port}/{database}')"
   ]
  },
  {
   "cell_type": "code",
   "execution_count": 56,
   "metadata": {},
   "outputs": [
    {
     "name": "stdout",
     "output_type": "stream",
     "text": [
      "Data inserted successfully!\n"
     ]
    },
    {
     "data": {
      "text/html": [
       "<div>\n",
       "<style scoped>\n",
       "    .dataframe tbody tr th:only-of-type {\n",
       "        vertical-align: middle;\n",
       "    }\n",
       "\n",
       "    .dataframe tbody tr th {\n",
       "        vertical-align: top;\n",
       "    }\n",
       "\n",
       "    .dataframe thead th {\n",
       "        text-align: right;\n",
       "    }\n",
       "</style>\n",
       "<table border=\"1\" class=\"dataframe\">\n",
       "  <thead>\n",
       "    <tr style=\"text-align: right;\">\n",
       "      <th></th>\n",
       "      <th>ProvinceID</th>\n",
       "      <th>GeographyID</th>\n",
       "      <th>Geography</th>\n",
       "      <th>GasTypeID</th>\n",
       "      <th>VectorCode</th>\n",
       "      <th>ProvinceCode</th>\n",
       "    </tr>\n",
       "  </thead>\n",
       "  <tbody>\n",
       "    <tr>\n",
       "      <th>0</th>\n",
       "      <td>1</td>\n",
       "      <td>1</td>\n",
       "      <td>St. John's, Newfoundland and Labrador</td>\n",
       "      <td>1</td>\n",
       "      <td>v735082</td>\n",
       "      <td>NL</td>\n",
       "    </tr>\n",
       "    <tr>\n",
       "      <th>1</th>\n",
       "      <td>1</td>\n",
       "      <td>1</td>\n",
       "      <td>St. John's, Newfoundland and Labrador</td>\n",
       "      <td>2</td>\n",
       "      <td>v735100</td>\n",
       "      <td>NL</td>\n",
       "    </tr>\n",
       "    <tr>\n",
       "      <th>2</th>\n",
       "      <td>1</td>\n",
       "      <td>1</td>\n",
       "      <td>St. John's, Newfoundland and Labrador</td>\n",
       "      <td>3</td>\n",
       "      <td>v65584802</td>\n",
       "      <td>NL</td>\n",
       "    </tr>\n",
       "    <tr>\n",
       "      <th>3</th>\n",
       "      <td>2</td>\n",
       "      <td>2</td>\n",
       "      <td>Charlottetown and Summerside, Prince Edward Is...</td>\n",
       "      <td>1</td>\n",
       "      <td>v735092</td>\n",
       "      <td>PE</td>\n",
       "    </tr>\n",
       "    <tr>\n",
       "      <th>4</th>\n",
       "      <td>2</td>\n",
       "      <td>2</td>\n",
       "      <td>Charlottetown and Summerside, Prince Edward Is...</td>\n",
       "      <td>2</td>\n",
       "      <td>v735110</td>\n",
       "      <td>PE</td>\n",
       "    </tr>\n",
       "  </tbody>\n",
       "</table>\n",
       "</div>"
      ],
      "text/plain": [
       "   ProvinceID  GeographyID                                          Geography  \\\n",
       "0           1            1              St. John's, Newfoundland and Labrador   \n",
       "1           1            1              St. John's, Newfoundland and Labrador   \n",
       "2           1            1              St. John's, Newfoundland and Labrador   \n",
       "3           2            2  Charlottetown and Summerside, Prince Edward Is...   \n",
       "4           2            2  Charlottetown and Summerside, Prince Edward Is...   \n",
       "\n",
       "   GasTypeID VectorCode ProvinceCode  \n",
       "0          1    v735082           NL  \n",
       "1          2    v735100           NL  \n",
       "2          3  v65584802           NL  \n",
       "3          1    v735092           PE  \n",
       "4          2    v735110           PE  "
      ]
     },
     "execution_count": 56,
     "metadata": {},
     "output_type": "execute_result"
    }
   ],
   "source": [
    "# Import csv\n",
    "vector_df = pd.read_csv(r'./Data/Vector Data.csv')\n",
    "\n",
    "# Insert data into database\n",
    "# Insert DataFrame into MySQL table\n",
    "table_name = 'vector'\n",
    "\n",
    "# Insert data into the table, if the table already exists, replace the data\n",
    "vector_df.to_sql(name=table_name, con=engine, if_exists='append', index=False)\n",
    "\n",
    "print(\"Data inserted successfully!\")\n",
    "\n",
    "vector_df.head()"
   ]
  },
  {
   "cell_type": "markdown",
   "metadata": {},
   "source": [
    "get the province information from the vector table"
   ]
  },
  {
   "cell_type": "code",
   "execution_count": null,
   "metadata": {},
   "outputs": [],
   "source": [
    "province_df = vector_df[['ProvinceID','Geography','ProvinceCode']]\n",
    "\n",
    "# Get the province from the geography\n",
    "province_df['Province'] = province_df['Geography'].str.split(',').str[-1].str.strip()\n",
    "\n",
    "# Replace 'Ontario/Quebec' with 'Ontario'\n",
    "province_df['Province'] = province_df['Province'].replace('Ontario/Quebec', 'Ontario')\n",
    "\n",
    "# Drop duplicates\n",
    "province = province_df[['ProvinceID','Province','ProvinceCode']].drop_duplicates()\n",
    "\n",
    "# rename columns\n",
    "province.rename(columns = {'ProvinceID':'ID','ProvinceCode':'code'}, inplace =True)\n",
    "\n",
    "# Insert DataFrame into MySQL table\n",
    "table_name = 'province'\n",
    "\n",
    "# Insert data into the table, if the table already exists, replace the data\n",
    "province.to_sql(name=table_name, con=engine, if_exists='append', index=False)\n",
    "\n",
    "print(\"Data inserted successfully!\")"
   ]
  },
  {
   "cell_type": "code",
   "execution_count": 64,
   "metadata": {},
   "outputs": [
    {
     "data": {
      "text/html": [
       "<div>\n",
       "<style scoped>\n",
       "    .dataframe tbody tr th:only-of-type {\n",
       "        vertical-align: middle;\n",
       "    }\n",
       "\n",
       "    .dataframe tbody tr th {\n",
       "        vertical-align: top;\n",
       "    }\n",
       "\n",
       "    .dataframe thead th {\n",
       "        text-align: right;\n",
       "    }\n",
       "</style>\n",
       "<table border=\"1\" class=\"dataframe\">\n",
       "  <thead>\n",
       "    <tr style=\"text-align: right;\">\n",
       "      <th></th>\n",
       "      <th>ID</th>\n",
       "      <th>Province</th>\n",
       "      <th>code</th>\n",
       "    </tr>\n",
       "  </thead>\n",
       "  <tbody>\n",
       "    <tr>\n",
       "      <th>0</th>\n",
       "      <td>1</td>\n",
       "      <td>Newfoundland and Labrador</td>\n",
       "      <td>NL</td>\n",
       "    </tr>\n",
       "    <tr>\n",
       "      <th>3</th>\n",
       "      <td>2</td>\n",
       "      <td>Prince Edward Island</td>\n",
       "      <td>PE</td>\n",
       "    </tr>\n",
       "    <tr>\n",
       "      <th>6</th>\n",
       "      <td>3</td>\n",
       "      <td>Nova Scotia</td>\n",
       "      <td>NS</td>\n",
       "    </tr>\n",
       "    <tr>\n",
       "      <th>9</th>\n",
       "      <td>4</td>\n",
       "      <td>New Brunswick</td>\n",
       "      <td>NB</td>\n",
       "    </tr>\n",
       "    <tr>\n",
       "      <th>12</th>\n",
       "      <td>5</td>\n",
       "      <td>Quebec</td>\n",
       "      <td>QC</td>\n",
       "    </tr>\n",
       "  </tbody>\n",
       "</table>\n",
       "</div>"
      ],
      "text/plain": [
       "    ID                   Province code\n",
       "0    1  Newfoundland and Labrador   NL\n",
       "3    2       Prince Edward Island   PE\n",
       "6    3                Nova Scotia   NS\n",
       "9    4              New Brunswick   NB\n",
       "12   5                     Quebec   QC"
      ]
     },
     "execution_count": 64,
     "metadata": {},
     "output_type": "execute_result"
    }
   ],
   "source": [
    "province.head()"
   ]
  },
  {
   "cell_type": "code",
   "execution_count": 61,
   "metadata": {},
   "outputs": [
    {
     "name": "stdout",
     "output_type": "stream",
     "text": [
      "Data inserted successfully!\n"
     ]
    },
    {
     "data": {
      "text/html": [
       "<div>\n",
       "<style scoped>\n",
       "    .dataframe tbody tr th:only-of-type {\n",
       "        vertical-align: middle;\n",
       "    }\n",
       "\n",
       "    .dataframe tbody tr th {\n",
       "        vertical-align: top;\n",
       "    }\n",
       "\n",
       "    .dataframe thead th {\n",
       "        text-align: right;\n",
       "    }\n",
       "</style>\n",
       "<table border=\"1\" class=\"dataframe\">\n",
       "  <thead>\n",
       "    <tr style=\"text-align: right;\">\n",
       "      <th></th>\n",
       "      <th>GasType</th>\n",
       "      <th>ID</th>\n",
       "      <th>Short</th>\n",
       "    </tr>\n",
       "  </thead>\n",
       "  <tbody>\n",
       "    <tr>\n",
       "      <th>0</th>\n",
       "      <td>Regular unleaded gasoline at self service fill...</td>\n",
       "      <td>1</td>\n",
       "      <td>Regular</td>\n",
       "    </tr>\n",
       "    <tr>\n",
       "      <th>1</th>\n",
       "      <td>Premium unleaded gasoline at self service fill...</td>\n",
       "      <td>2</td>\n",
       "      <td>Premium</td>\n",
       "    </tr>\n",
       "    <tr>\n",
       "      <th>2</th>\n",
       "      <td>Diesel fuel at self service filling stations</td>\n",
       "      <td>3</td>\n",
       "      <td>Diesel</td>\n",
       "    </tr>\n",
       "  </tbody>\n",
       "</table>\n",
       "</div>"
      ],
      "text/plain": [
       "                                             GasType  ID    Short\n",
       "0  Regular unleaded gasoline at self service fill...   1  Regular\n",
       "1  Premium unleaded gasoline at self service fill...   2  Premium\n",
       "2       Diesel fuel at self service filling stations   3   Diesel"
      ]
     },
     "execution_count": 61,
     "metadata": {},
     "output_type": "execute_result"
    }
   ],
   "source": [
    "# Import \n",
    "gas_info = pd.read_csv(r'./Data/Fuel Information.csv')\n",
    "\n",
    "# Insert DataFrame into MySQL table\n",
    "table_name = 'gasinfo'\n",
    "\n",
    "# Insert data into the table, if the table already exists, replace the data\n",
    "gas_info.to_sql(name=table_name, con=engine, if_exists='append', index=False)\n",
    "\n",
    "print(\"Data inserted successfully!\")\n",
    "\n",
    "gas_info.head()\n"
   ]
  }
 ],
 "metadata": {
  "kernelspec": {
   "display_name": "Python 3",
   "language": "python",
   "name": "python3"
  },
  "language_info": {
   "codemirror_mode": {
    "name": "ipython",
    "version": 3
   },
   "file_extension": ".py",
   "mimetype": "text/x-python",
   "name": "python",
   "nbconvert_exporter": "python",
   "pygments_lexer": "ipython3",
   "version": "3.12.4"
  }
 },
 "nbformat": 4,
 "nbformat_minor": 2
}
